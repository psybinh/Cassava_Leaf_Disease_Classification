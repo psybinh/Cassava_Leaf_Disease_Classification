{
 "cells": [
  {
   "cell_type": "markdown",
   "id": "logical-employee",
   "metadata": {},
   "source": [
    "# Import"
   ]
  },
  {
   "cell_type": "code",
   "execution_count": 1,
   "id": "reduced-employer",
   "metadata": {},
   "outputs": [],
   "source": [
    "import numpy as np\n",
    "import pandas as pd\n",
    "import timm\n",
    "import random\n",
    "import os\n",
    "from PIL import Image\n",
    "import torch\n",
    "\n",
    "from torch.utils.data import Dataset, DataLoader\n",
    "import torchvision.transforms as transforms\n",
    "from torchvision import models\n",
    "import tqdm\n",
    "from torch import nn\n",
    "from torch import optim\n",
    "\n",
    "import json\n",
    "import time"
   ]
  },
  {
   "cell_type": "markdown",
   "id": "creative-height",
   "metadata": {},
   "source": [
    "# Set seed (Reproduce result)"
   ]
  },
  {
   "cell_type": "code",
   "execution_count": 2,
   "id": "continuing-beauty",
   "metadata": {},
   "outputs": [],
   "source": [
    "SEED = 123456789\n",
    "\n",
    "random.seed(SEED)\n",
    "np.random.seed(SEED)\n",
    "torch.manual_seed(SEED)\n",
    "torch.cuda.manual_seed(SEED)\n",
    "torch.backends.cudnn.deterministic = True"
   ]
  },
  {
   "cell_type": "markdown",
   "id": "loaded-client",
   "metadata": {},
   "source": [
    "# Split data"
   ]
  },
  {
   "cell_type": "code",
   "execution_count": 3,
   "id": "healthy-grace",
   "metadata": {},
   "outputs": [],
   "source": [
    "data = pd.read_csv('cassava-leaf-disease-classification/train.csv')\n",
    "choosen_prob = np.random.rand(len(data))\n",
    "train_df = data[choosen_prob >= 0.9]\n",
    "val_df = data[choosen_prob < 0.1]"
   ]
  },
  {
   "cell_type": "code",
   "execution_count": 4,
   "id": "alert-belarus",
   "metadata": {},
   "outputs": [
    {
     "data": {
      "text/plain": [
       "3    13158\n",
       "4     2577\n",
       "2     2386\n",
       "1     2189\n",
       "0     1087\n",
       "Name: label, dtype: int64"
      ]
     },
     "execution_count": 4,
     "metadata": {},
     "output_type": "execute_result"
    }
   ],
   "source": [
    "data.label.value_counts()"
   ]
  },
  {
   "cell_type": "code",
   "execution_count": 5,
   "id": "rocky-intersection",
   "metadata": {},
   "outputs": [
    {
     "data": {
      "text/plain": [
       "<AxesSubplot:>"
      ]
     },
     "execution_count": 5,
     "metadata": {},
     "output_type": "execute_result"
    },
    {
     "data": {
      "image/png": "[encoded data removed]",
      "text/plain": [
       "<Figure size 432x288 with 1 Axes>"
      ]
     },
     "metadata": {
      "needs_background": "light"
     },
     "output_type": "display_data"
    }
   ],
   "source": [
    "val_df.label.value_counts().plot(kind=\"bar\")"
   ]
  },
  {
   "cell_type": "code",
   "execution_count": 6,
   "id": "thousand-internet",
   "metadata": {},
   "outputs": [
    {
     "data": {
      "text/plain": [
       "<AxesSubplot:>"
      ]
     },
     "execution_count": 6,
     "metadata": {},
     "output_type": "execute_result"
    },
    {
     "data": {
      "image/png": "[encoded data removed]",
      "text/plain": [
       "<Figure size 432x288 with 1 Axes>"
      ]
     },
     "metadata": {
      "needs_background": "light"
     },
     "output_type": "display_data"
    }
   ],
   "source": [
    "train_df.label.value_counts().plot(kind=\"bar\")"
   ]
  },
  {
   "cell_type": "markdown",
   "id": "purple-industry",
   "metadata": {},
   "source": [
    "# Hyper params"
   ]
  },
  {
   "cell_type": "code",
   "execution_count": 7,
   "id": "moved-grain",
   "metadata": {},
   "outputs": [
    {
     "name": "stdout",
     "output_type": "stream",
     "text": [
      "[0.4070720457073391, 0.20214130364727165, 0.18545151453641143, 0.03362876680984022, 0.1717063692991376]\n"
     ]
    }
   ],
   "source": [
    "EXP_NAME = 'exp_06'\n",
    "\n",
    "###########################################\n",
    "MODEL_NAME = 'tf_efficientnet_b3_ns'\n",
    "IM_SIZE = 300\n",
    "###########################################\n",
    "BATCH_SIZE = 32\n",
    "LEARNING_RATE = 1e-4\n",
    "LR_STEP = 10\n",
    "EPOCH = 50\n",
    "WARMUP_EPOCH = 50\n",
    "WEIGHT_DECAY = 1e-4\n",
    "GRADIENT_COEFF = 2\n",
    "WEIGHTS = None\n",
    "##########################################\n",
    "CLASS_NUM = [1087, 2189, 2386, 13158, 2577]\n",
    "WEIGHTS = [1 / weight for weight in CLASS_NUM]\n",
    "NORM_WEIGHTS = [weight / sum(WEIGHTS) for weight in WEIGHTS]\n",
    "# NORM_WEIGHTS = None\n",
    "print(NORM_WEIGHTS)\n",
    "##########################################\n",
    "VAL_BATCH_SIZE = BATCH_SIZE\n",
    "############################################\n",
    "NUM_WORKER = 16"
   ]
  },
  {
   "cell_type": "code",
   "execution_count": 8,
   "id": "iraqi-australia",
   "metadata": {},
   "outputs": [],
   "source": [
    "HYPER_PARAMS = {\n",
    "    'EXP_NAME': EXP_NAME,\n",
    "\n",
    "    'MODEL_NAME': MODEL_NAME,\n",
    "    'IM_SIZE': IM_SIZE,\n",
    "\n",
    "    'BATCH_SIZE': BATCH_SIZE,\n",
    "    'LEARNING_RATE': LEARNING_RATE,\n",
    "    'LR_STEP': LR_STEP,\n",
    "    'EPOCH': EPOCH,\n",
    "    'WARMUP_EPOCH': WARMUP_EPOCH,\n",
    "    'WEIGHT_DECAY': WEIGHT_DECAY,\n",
    "    'NORM_WEIGHTS': NORM_WEIGHTS,\n",
    "\n",
    "    'VAL_BATCH_SIZE': VAL_BATCH_SIZE,\n",
    "\n",
    "    'NUM_WORKER': NUM_WORKER,\n",
    "}"
   ]
  },
  {
   "cell_type": "markdown",
   "id": "vocational-nothing",
   "metadata": {},
   "source": [
    "# Data augmentation"
   ]
  },
  {
   "cell_type": "code",
   "execution_count": 9,
   "id": "southern-belief",
   "metadata": {},
   "outputs": [],
   "source": [
    "mean = (0.485, 0.456, 0.406)\n",
    "std = (0.229, 0.224, 0.225)\n",
    "COLOR_JILTER = (0, 0.3)\n",
    "\n",
    "train_transform = transforms.Compose(\n",
    "    [transforms.ToTensor(),\n",
    "     transforms.Resize((IM_SIZE, IM_SIZE), interpolation=Image.BICUBIC),\n",
    "     transforms.ColorJitter(brightness=COLOR_JILTER, contrast=COLOR_JILTER, saturation=COLOR_JILTER, hue=COLOR_JILTER),\n",
    "     transforms.RandomResizedCrop((IM_SIZE, IM_SIZE)),\n",
    "     transforms.RandomRotation(45),\n",
    "     transforms.RandomVerticalFlip(p=0.5),\n",
    "     transforms.RandomHorizontalFlip(p=0.5),\n",
    "     transforms.Normalize(mean, std)])\n",
    "\n",
    "val_transform = transforms.Compose(\n",
    "    [transforms.ToTensor(),\n",
    "     transforms.Resize((IM_SIZE, IM_SIZE), interpolation=Image.BICUBIC),\n",
    "     transforms.Normalize(mean, std)])"
   ]
  },
  {
   "cell_type": "markdown",
   "id": "ethical-universal",
   "metadata": {},
   "source": [
    "# Dataset"
   ]
  },
  {
   "cell_type": "code",
   "execution_count": 10,
   "id": "speaking-marijuana",
   "metadata": {},
   "outputs": [],
   "source": [
    "class CassavaDataset(Dataset):\n",
    "    def __init__(self, image_dir, df, transform=None):\n",
    "        self.image_dir = image_dir\n",
    "        self.df = df.reset_index(drop=True)\n",
    "        self.transform = transform\n",
    "        \n",
    "    def __len__(self):\n",
    "        return len(self.df)\n",
    "    \n",
    "    def __getitem__(self, index):\n",
    "        row = self.df.loc[index]\n",
    "        label = row.label\n",
    "        image_name = row.image_id\n",
    "        \n",
    "        image = Image.open(os.path.join(self.image_dir, image_name))\n",
    "        image = np.array(image)\n",
    "        \n",
    "        if self.transform is not None:\n",
    "            image = self.transform(image)\n",
    "        \n",
    "        return image, label"
   ]
  },
  {
   "cell_type": "code",
   "execution_count": 11,
   "id": "fabulous-pharmacy",
   "metadata": {},
   "outputs": [],
   "source": [
    "train_image_dir = 'cassava-leaf-disease-classification/train_images'\n",
    "train_dataset = CassavaDataset(train_image_dir, train_df, transform=train_transform)\n",
    "train_loader = torch.utils.data.DataLoader(train_dataset, \n",
    "                                           batch_size=BATCH_SIZE, \n",
    "                                           shuffle=True, \n",
    "                                           num_workers=NUM_WORKER)\n",
    "\n",
    "val_image_dir = 'cassava-leaf-disease-classification/train_images'\n",
    "val_dataset = CassavaDataset(val_image_dir, val_df, transform=val_transform)\n",
    "val_loader = torch.utils.data.DataLoader(val_dataset, \n",
    "                                           batch_size=VAL_BATCH_SIZE, \n",
    "                                           shuffle=False, \n",
    "                                           num_workers=NUM_WORKER)"
   ]
  },
  {
   "cell_type": "markdown",
   "id": "swedish-shareware",
   "metadata": {},
   "source": [
    "# Model"
   ]
  },
  {
   "cell_type": "code",
   "execution_count": 12,
   "id": "backed-convertible",
   "metadata": {},
   "outputs": [],
   "source": [
    "device = torch.device(\"cuda\")\n",
    "model = timm.create_model(MODEL_NAME, pretrained=True, num_classes=5)"
   ]
  },
  {
   "cell_type": "code",
   "execution_count": 13,
   "id": "finished-audience",
   "metadata": {},
   "outputs": [
    {
     "name": "stdout",
     "output_type": "stream",
     "text": [
      "Convert model to CUDA\n"
     ]
    }
   ],
   "source": [
    "class_weights = None\n",
    "if NORM_WEIGHTS != None:\n",
    "    class_weights = torch.FloatTensor(NORM_WEIGHTS).cuda()\n",
    "    \n",
    "criterion = nn.CrossEntropyLoss(weight=class_weights)\n",
    "linear_scaled_lr = 8.0 * LEARNING_RATE * GRADIENT_COEFF * BATCH_SIZE / 512.0\n",
    "# optimizer = optim.SGD(model.parameters(), lr=linear_scaled_lr, momentum=0.9, weight_decay=WEIGHT_DECAY)\n",
    "optimizer = optim.Adam(model.parameters(), lr=linear_scaled_lr, weight_decay=WEIGHT_DECAY)\n",
    "lr_scheduler = optim.lr_scheduler.StepLR(optimizer, step_size=LR_STEP)\n",
    "model.cuda()\n",
    "print('Convert model to CUDA')"
   ]
  },
  {
   "cell_type": "markdown",
   "id": "front-crisis",
   "metadata": {},
   "source": [
    "# Train and Val"
   ]
  },
  {
   "cell_type": "code",
   "execution_count": 14,
   "id": "designed-volume",
   "metadata": {},
   "outputs": [],
   "source": [
    "def freeze_bn(model):\n",
    "    model.eval()\n",
    "    model.classifier.train()\n",
    "    model.conv_head.train()\n",
    "    model.bn2.train()"
   ]
  },
  {
   "cell_type": "code",
   "execution_count": 15,
   "id": "dressed-trinity",
   "metadata": {},
   "outputs": [],
   "source": [
    "def train_one_epoch(epoch, model, train_loader, criterion, optimizer, finetune_on_bn=True, logs_file=None):\n",
    "    if finetune_on_bn == False:\n",
    "        freeze_bn(model)\n",
    "    else:\n",
    "        model.train()\n",
    "        \n",
    "    running_loss = 0.0\n",
    "    scaler = torch.cuda.amp.GradScaler()\n",
    "    for i, data in enumerate(tqdm.tqdm(train_loader), 0):\n",
    "        inputs, labels = data\n",
    "        with torch.cuda.amp.autocast():\n",
    "            inputs = inputs.cuda()\n",
    "            labels = labels.cuda()\n",
    "\n",
    "            outputs = model(inputs)\n",
    "            assert outputs.dtype is torch.float16\n",
    "            loss = criterion(outputs, labels)\n",
    "            loss = loss / GRADIENT_COEFF\n",
    "            assert loss.dtype is torch.float32\n",
    "        \n",
    "        scaler.scale(loss).backward()\n",
    "#         scaler.unscale_(optimizer)\n",
    "#         torch.nn.utils.clip_grad_norm_(model.parameters(), max_norm)\n",
    "        \n",
    "        if (i + 1) % GRADIENT_COEFF == 0:\n",
    "            scaler.step(optimizer)\n",
    "            scaler.update()\n",
    "            optimizer.zero_grad()\n",
    "            running_loss += loss.item()\n",
    "            \n",
    "            if logs_file != None:\n",
    "                logs_file.write('Training loss at epoch {}, iteration {}: {}\\n'.format(epoch, i, running_loss / i * GRADIENT_COEFF))\n",
    "    if logs_file != None:\n",
    "        logs_file.write('------------------------------------------------\\n')\n",
    "           \n",
    "    return running_loss / len(train_loader)"
   ]
  },
  {
   "cell_type": "code",
   "execution_count": 16,
   "id": "southeast-skating",
   "metadata": {},
   "outputs": [],
   "source": [
    "def validate(epoch, model, val_loader, logs_file=None):\n",
    "    correct = 0\n",
    "    total = 0\n",
    "    running_loss = 0.0\n",
    "    with torch.no_grad():\n",
    "        for data in tqdm.tqdm(val_loader):\n",
    "            images, labels = data\n",
    "            images = images.cuda()\n",
    "            labels = labels.cuda()\n",
    "        \n",
    "            outputs = model(images)\n",
    "            loss = criterion(outputs, labels)\n",
    "            _, predicted = torch.max(outputs.data, 1)\n",
    "            total += labels.size(0)\n",
    "            correct += (predicted == labels).sum().item()\n",
    "            \n",
    "            running_loss += loss.item()\n",
    "    \n",
    "    if logs_file != None:\n",
    "        logs_file.write('Validating loss at epoch {}: {}\\n'.format(epoch, running_loss / len(val_loader)))\n",
    "        logs_file.write('Validating accuracy at epoch {}: {}\\n'.format(epoch, correct / total))\n",
    "        logs_file.write('**************************************************\\n')\n",
    "        \n",
    "    torch.save(model.state_dict(), 'models/exp_{}_time_{}_epoch_{}_acc_{}.pth'.format(EXP_NAME, int(time.time()), epoch, correct / total))\n",
    "    return running_loss / len(val_loader), correct / total\n",
    "\n",
    "# def frezze_top(Model):\n",
    "#     pass"
   ]
  },
  {
   "cell_type": "code",
   "execution_count": null,
   "id": "little-quarterly",
   "metadata": {},
   "outputs": [
    {
     "name": "stderr",
     "output_type": "stream",
     "text": [
      " 47%|████▋     | 33/70 [00:38<00:31,  1.17it/s]"
     ]
    }
   ],
   "source": [
    "import time\n",
    "\n",
    "train_loss_list = []\n",
    "val_acc_list = []\n",
    "val_loss_list = []\n",
    "with open('logs/logs_{}_{}.txt'.format(EXP_NAME, int(time.time())), 'w') as logs_file:\n",
    "    logs_file.write(json.dumps(HYPER_PARAMS))\n",
    "    logs_file.write('\\n')\n",
    "    logs_file.write('**************************************************\\n')\n",
    "    \n",
    "    for epoch in range(EPOCH):\n",
    "        train_loss = 0.0\n",
    "        if epoch < WARMUP_EPOCH:\n",
    "            train_loss = train_one_epoch(epoch, \n",
    "                                         model, \n",
    "                                         train_loader, \n",
    "                                         criterion, \n",
    "                                         optimizer, \n",
    "                                         finetune_on_bn=False, \n",
    "                                         logs_file=logs_file)\n",
    "        else:\n",
    "            train_loss = train_one_epoch(epoch, \n",
    "                                         model, \n",
    "                                         train_loader, \n",
    "                                         criterion, \n",
    "                                         optimizer, \n",
    "                                         logs_file=logs_file)\n",
    "        val_loss, val_acc = validate(epoch, \n",
    "                                     model, \n",
    "                                     val_loader, \n",
    "                                  \n",
    "                                     logs_file=logs_file)\n",
    "\n",
    "        print('Train loss: {}'.format(train_loss))\n",
    "        print('Val loss: {}'.format(val_loss))\n",
    "        print('Val acc: {}'.format(val_acc))\n",
    "        \n",
    "        train_loss_list.append(train_loss)\n",
    "        val_acc_list.append(val_acc)\n",
    "        val_loss_list.append(val_loss)"
   ]
  },
  {
   "cell_type": "markdown",
   "id": "charitable-rachel",
   "metadata": {},
   "source": [
    "# Visualize train loss and val loss"
   ]
  },
  {
   "cell_type": "code",
   "execution_count": null,
   "id": "continued-stuff",
   "metadata": {},
   "outputs": [],
   "source": [
    "import matplotlib.pyplot as plt\n",
    "%matplotlib inline\n",
    "\n",
    "print(train_loss_list)\n",
    "print(val_acc_list)\n",
    "print(val_loss_list)\n",
    "\n",
    "plt.plot(train_loss_list)\n",
    "plt.plot(val_acc_list)\n",
    "plt.plot(val_loss_list)\n",
    "\n",
    "plt.show()"
   ]
  },
  {
   "cell_type": "code",
   "execution_count": null,
   "id": "minute-remedy",
   "metadata": {},
   "outputs": [],
   "source": []
  }
 ],
 "metadata": {
  "kernelspec": {
   "display_name": "Python 3",
   "language": "python",
   "name": "python3"
  },
  "language_info": {
   "codemirror_mode": {
    "name": "ipython",
    "version": 3
   },
   "file_extension": ".py",
   "mimetype": "text/x-python",
   "name": "python",
   "nbconvert_exporter": "python",
   "pygments_lexer": "ipython3",
   "version": "3.8.2"
  }
 },
 "nbformat": 4,
 "nbformat_minor": 5
}

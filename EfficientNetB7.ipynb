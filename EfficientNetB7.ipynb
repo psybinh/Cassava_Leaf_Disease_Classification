{
 "cells": [
  {
   "cell_type": "markdown",
   "id": "promotional-retirement",
   "metadata": {},
   "source": [
    "# Import"
   ]
  },
  {
   "cell_type": "code",
   "execution_count": 1,
   "id": "cardiac-horror",
   "metadata": {},
   "outputs": [],
   "source": [
    "import numpy as np\n",
    "import pandas as pd\n",
    "import timm\n",
    "import random\n",
    "import os\n",
    "from PIL import Image\n",
    "import torch\n",
    "\n",
    "from torch.utils.data import Dataset, DataLoader\n",
    "import torchvision.transforms as transforms\n",
    "from torchvision import models\n",
    "import tqdm\n",
    "from torch import nn\n",
    "from torch import optim"
   ]
  },
  {
   "cell_type": "markdown",
   "id": "compound-laser",
   "metadata": {},
   "source": [
    "# Set seed (Reproduce result)"
   ]
  },
  {
   "cell_type": "code",
   "execution_count": 2,
   "id": "aging-intellectual",
   "metadata": {},
   "outputs": [],
   "source": [
    "SEED = 123456789\n",
    "\n",
    "random.seed(SEED)\n",
    "np.random.seed(SEED)\n",
    "torch.manual_seed(SEED)\n",
    "torch.cuda.manual_seed(SEED)\n",
    "torch.backends.cudnn.deterministic = True"
   ]
  },
  {
   "cell_type": "markdown",
   "id": "incorporate-genetics",
   "metadata": {},
   "source": [
    "# Split data"
   ]
  },
  {
   "cell_type": "code",
   "execution_count": 3,
   "id": "floating-basin",
   "metadata": {},
   "outputs": [],
   "source": [
    "data = pd.read_csv('cassava-leaf-disease-classification/train.csv')\n",
    "choosen_prob = np.random.rand(len(data))\n",
    "train_df = data[choosen_prob >= 0.2]\n",
    "val_df = data[choosen_prob < 0.2]"
   ]
  },
  {
   "cell_type": "code",
   "execution_count": 4,
   "id": "architectural-clinton",
   "metadata": {},
   "outputs": [
    {
     "data": {
      "text/plain": [
       "4294"
      ]
     },
     "execution_count": 4,
     "metadata": {},
     "output_type": "execute_result"
    }
   ],
   "source": [
    "len(val_df)"
   ]
  },
  {
   "cell_type": "code",
   "execution_count": 5,
   "id": "precise-gateway",
   "metadata": {},
   "outputs": [
    {
     "data": {
      "text/plain": [
       "17103"
      ]
     },
     "execution_count": 5,
     "metadata": {},
     "output_type": "execute_result"
    }
   ],
   "source": [
    "len(train_df)"
   ]
  },
  {
   "cell_type": "markdown",
   "id": "senior-queens",
   "metadata": {},
   "source": [
    "# Hyper params"
   ]
  },
  {
   "cell_type": "code",
   "execution_count": 6,
   "id": "regular-coast",
   "metadata": {},
   "outputs": [],
   "source": [
    "MODEL_NAME = 'tf_efficientnet_b3_ns'\n",
    "IM_SIZE = 300\n",
    "BATCH_SIZE = 32\n",
    "LEARNING_RATE = 1e-3\n",
    "EPOCH = 50\n",
    "NUM_WORKER = 8\n",
    "WEIGHT_DECAY = 1e-4"
   ]
  },
  {
   "cell_type": "markdown",
   "id": "thousand-biodiversity",
   "metadata": {},
   "source": [
    "# Data augmentation"
   ]
  },
  {
   "cell_type": "code",
   "execution_count": 7,
   "id": "awful-kruger",
   "metadata": {},
   "outputs": [],
   "source": [
    "train_transform = transforms.Compose(\n",
    "    [transforms.ToTensor(),\n",
    "     transforms.RandomResizedCrop((IM_SIZE, IM_SIZE)),\n",
    "     transforms.RandomRotation(90),\n",
    "     transforms.RandomHorizontalFlip(p=0.5),\n",
    "     transforms.Normalize((0.485, 0.456, 0.406), (0.229, 0.224, 0.225))])\n",
    "\n",
    "val_transform = transforms.Compose(\n",
    "    [transforms.ToTensor(),\n",
    "     transforms.Resize((IM_SIZE, IM_SIZE)),\n",
    "     transforms.Normalize((0.485, 0.456, 0.406), (0.229, 0.224, 0.225))])"
   ]
  },
  {
   "cell_type": "markdown",
   "id": "adaptive-lafayette",
   "metadata": {},
   "source": [
    "# Dataset"
   ]
  },
  {
   "cell_type": "code",
   "execution_count": 8,
   "id": "weighted-nickel",
   "metadata": {},
   "outputs": [],
   "source": [
    "class CassavaDataset(Dataset):\n",
    "    def __init__(self, image_dir, df, transform=None):\n",
    "        self.image_dir = image_dir\n",
    "        self.df = df.reset_index(drop=True)\n",
    "        self.transform = transform\n",
    "        \n",
    "    def __len__(self):\n",
    "        return len(self.df)\n",
    "    \n",
    "    def __getitem__(self, index):\n",
    "        row = self.df.loc[index]\n",
    "        label = row.label\n",
    "        image_name = row.image_id\n",
    "        \n",
    "        image = Image.open(os.path.join(self.image_dir, image_name))\n",
    "        image = np.array(image)\n",
    "        \n",
    "        if self.transform is not None:\n",
    "            image = self.transform(image)\n",
    "        \n",
    "        return image, label"
   ]
  },
  {
   "cell_type": "code",
   "execution_count": 9,
   "id": "casual-collectible",
   "metadata": {},
   "outputs": [],
   "source": [
    "train_image_dir = 'cassava-leaf-disease-classification/train_images'\n",
    "train_dataset = CassavaDataset(train_image_dir, train_df, transform=train_transform)\n",
    "train_loader = torch.utils.data.DataLoader(train_dataset, \n",
    "                                           batch_size=BATCH_SIZE, \n",
    "                                           shuffle=True, \n",
    "                                           num_workers=NUM_WORKER)\n",
    "\n",
    "val_image_dir = 'cassava-leaf-disease-classification/train_images'\n",
    "val_dataset = CassavaDataset(val_image_dir, val_df, transform=val_transform)\n",
    "val_loader = torch.utils.data.DataLoader(val_dataset, \n",
    "                                           batch_size=BATCH_SIZE, \n",
    "                                           shuffle=False, \n",
    "                                           num_workers=NUM_WORKER)"
   ]
  },
  {
   "cell_type": "markdown",
   "id": "proof-strengthening",
   "metadata": {},
   "source": [
    "# Model"
   ]
  },
  {
   "cell_type": "code",
   "execution_count": 10,
   "id": "ignored-friday",
   "metadata": {},
   "outputs": [],
   "source": [
    "device = torch.device(\"cuda\")\n",
    "model = timm.create_model(MODEL_NAME, pretrained=True, num_classes=5)"
   ]
  },
  {
   "cell_type": "code",
   "execution_count": 11,
   "id": "maritime-sheep",
   "metadata": {},
   "outputs": [
    {
     "name": "stdout",
     "output_type": "stream",
     "text": [
      "Convert model to CUDA\n"
     ]
    }
   ],
   "source": [
    "criterion = nn.CrossEntropyLoss()\n",
    "optimizer = optim.SGD(model.parameters(), lr=LEARNING_RATE, momentum=0.9)\n",
    "\n",
    "model.cuda()\n",
    "print('Convert model to CUDA')\n",
    "\n",
    "# for param in model.parameters():\n",
    "#     param.requires_grad = False\n",
    "\n",
    "# model.classifier.train()\n",
    "# model.conv_head.train()\n",
    "# model.bn2.train()"
   ]
  },
  {
   "cell_type": "markdown",
   "id": "ethical-bones",
   "metadata": {},
   "source": [
    "# Train and Val"
   ]
  },
  {
   "cell_type": "code",
   "execution_count": 12,
   "id": "refined-mainstream",
   "metadata": {},
   "outputs": [],
   "source": [
    "def train_one_epoch(model, train_loader, criterion, optimizer):\n",
    "    running_loss = 0.0\n",
    "    scaler = torch.cuda.amp.GradScaler()\n",
    "    for i, data in enumerate(tqdm.tqdm(train_loader), 0):\n",
    "        inputs, labels = data\n",
    "        with torch.cuda.amp.autocast():\n",
    "            inputs = inputs.cuda()\n",
    "            labels = labels.cuda()\n",
    "\n",
    "            outputs = model(inputs)\n",
    "            assert outputs.dtype is torch.float16\n",
    "            loss = criterion(outputs, labels)\n",
    "            assert loss.dtype is torch.float32\n",
    "        \n",
    "        scaler.scale(loss).backward()\n",
    "        scaler.step(optimizer)\n",
    "        scaler.update()\n",
    "        optimizer.zero_grad()\n",
    "\n",
    "        running_loss += loss.item()\n",
    "        \n",
    "    return running_loss / len(train_loader)"
   ]
  },
  {
   "cell_type": "code",
   "execution_count": 13,
   "id": "documented-glenn",
   "metadata": {},
   "outputs": [],
   "source": [
    "def validate(model, val_loader):\n",
    "    correct = 0\n",
    "    total = 0\n",
    "    with torch.no_grad():\n",
    "        for data in tqdm.tqdm(val_loader):\n",
    "            images, labels = data\n",
    "            images = images.cuda()\n",
    "            labels = labels.cuda()\n",
    "        \n",
    "            outputs = model(images)\n",
    "            _, predicted = torch.max(outputs.data, 1)\n",
    "            total += labels.size(0)\n",
    "            correct += (predicted == labels).sum().item()\n",
    "    return correct / total\n",
    "\n",
    "# def frezze_top(Model):\n",
    "#     pass"
   ]
  },
  {
   "cell_type": "code",
   "execution_count": 14,
   "id": "corporate-gasoline",
   "metadata": {},
   "outputs": [
    {
     "name": "stderr",
     "output_type": "stream",
     "text": [
      "100%|██████████| 535/535 [08:51<00:00,  1.01it/s]\n",
      "100%|██████████| 135/135 [00:34<00:00,  3.95it/s]\n",
      "  0%|          | 0/535 [00:00<?, ?it/s]"
     ]
    },
    {
     "name": "stdout",
     "output_type": "stream",
     "text": [
      "Accuracy at epoch 0 is: 0.7189101071262226\n"
     ]
    },
    {
     "name": "stderr",
     "output_type": "stream",
     "text": [
      "100%|██████████| 535/535 [08:59<00:00,  1.01s/it]\n",
      "100%|██████████| 135/135 [00:30<00:00,  4.42it/s]\n",
      "  0%|          | 0/535 [00:00<?, ?it/s]"
     ]
    },
    {
     "name": "stdout",
     "output_type": "stream",
     "text": [
      "Accuracy at epoch 1 is: 0.7622263623660922\n"
     ]
    },
    {
     "name": "stderr",
     "output_type": "stream",
     "text": [
      "100%|██████████| 535/535 [08:57<00:00,  1.00s/it]\n",
      "100%|██████████| 135/135 [00:30<00:00,  4.40it/s]\n",
      "  0%|          | 0/535 [00:00<?, ?it/s]"
     ]
    },
    {
     "name": "stdout",
     "output_type": "stream",
     "text": [
      "Accuracy at epoch 2 is: 0.7824871914299022\n"
     ]
    },
    {
     "name": "stderr",
     "output_type": "stream",
     "text": [
      "100%|██████████| 535/535 [08:49<00:00,  1.01it/s]\n",
      "100%|██████████| 135/135 [00:30<00:00,  4.44it/s]\n",
      "  0%|          | 0/535 [00:00<?, ?it/s]"
     ]
    },
    {
     "name": "stdout",
     "output_type": "stream",
     "text": [
      "Accuracy at epoch 3 is: 0.7899394503959013\n"
     ]
    },
    {
     "name": "stderr",
     "output_type": "stream",
     "text": [
      "100%|██████████| 535/535 [08:46<00:00,  1.02it/s]\n",
      "100%|██████████| 135/135 [00:30<00:00,  4.45it/s]\n",
      "  0%|          | 0/535 [00:00<?, ?it/s]"
     ]
    },
    {
     "name": "stdout",
     "output_type": "stream",
     "text": [
      "Accuracy at epoch 4 is: 0.7980903586399627\n"
     ]
    },
    {
     "name": "stderr",
     "output_type": "stream",
     "text": [
      "100%|██████████| 535/535 [09:03<00:00,  1.02s/it]\n",
      "100%|██████████| 135/135 [00:32<00:00,  4.11it/s]\n",
      "  0%|          | 0/535 [00:00<?, ?it/s]"
     ]
    },
    {
     "name": "stdout",
     "output_type": "stream",
     "text": [
      "Accuracy at epoch 5 is: 0.8004191895668374\n"
     ]
    },
    {
     "name": "stderr",
     "output_type": "stream",
     "text": [
      "100%|██████████| 535/535 [09:01<00:00,  1.01s/it]\n",
      "100%|██████████| 135/135 [00:31<00:00,  4.30it/s]\n",
      "  0%|          | 0/535 [00:00<?, ?it/s]"
     ]
    },
    {
     "name": "stdout",
     "output_type": "stream",
     "text": [
      "Accuracy at epoch 6 is: 0.8162552398695855\n"
     ]
    },
    {
     "name": "stderr",
     "output_type": "stream",
     "text": [
      "100%|██████████| 535/535 [08:48<00:00,  1.01it/s]\n",
      "100%|██████████| 135/135 [00:30<00:00,  4.43it/s]\n",
      "  0%|          | 0/535 [00:00<?, ?it/s]"
     ]
    },
    {
     "name": "stdout",
     "output_type": "stream",
     "text": [
      "Accuracy at epoch 7 is: 0.8139264089427107\n"
     ]
    },
    {
     "name": "stderr",
     "output_type": "stream",
     "text": [
      "100%|██████████| 535/535 [08:53<00:00,  1.00it/s]\n",
      "100%|██████████| 135/135 [00:30<00:00,  4.47it/s]\n",
      "  0%|          | 0/535 [00:00<?, ?it/s]"
     ]
    },
    {
     "name": "stdout",
     "output_type": "stream",
     "text": [
      "Accuracy at epoch 8 is: 0.8157894736842105\n"
     ]
    },
    {
     "name": "stderr",
     "output_type": "stream",
     "text": [
      "100%|██████████| 535/535 [08:56<00:00,  1.00s/it]\n",
      "100%|██████████| 135/135 [00:30<00:00,  4.43it/s]\n",
      "  0%|          | 0/535 [00:00<?, ?it/s]"
     ]
    },
    {
     "name": "stdout",
     "output_type": "stream",
     "text": [
      "Accuracy at epoch 9 is: 0.8225430833721472\n"
     ]
    },
    {
     "name": "stderr",
     "output_type": "stream",
     "text": [
      "100%|██████████| 535/535 [09:01<00:00,  1.01s/it]\n",
      "100%|██████████| 135/135 [00:30<00:00,  4.42it/s]\n",
      "  0%|          | 0/535 [00:00<?, ?it/s]"
     ]
    },
    {
     "name": "stdout",
     "output_type": "stream",
     "text": [
      "Accuracy at epoch 10 is: 0.8255705635770842\n"
     ]
    },
    {
     "name": "stderr",
     "output_type": "stream",
     "text": [
      "100%|██████████| 535/535 [09:07<00:00,  1.02s/it]\n",
      "100%|██████████| 135/135 [00:30<00:00,  4.45it/s]\n",
      "  0%|          | 0/535 [00:00<?, ?it/s]"
     ]
    },
    {
     "name": "stdout",
     "output_type": "stream",
     "text": [
      "Accuracy at epoch 11 is: 0.8255705635770842\n"
     ]
    },
    {
     "name": "stderr",
     "output_type": "stream",
     "text": [
      "100%|██████████| 535/535 [08:57<00:00,  1.01s/it]\n",
      "100%|██████████| 135/135 [00:30<00:00,  4.46it/s]\n",
      "  0%|          | 0/535 [00:00<?, ?it/s]"
     ]
    },
    {
     "name": "stdout",
     "output_type": "stream",
     "text": [
      "Accuracy at epoch 12 is: 0.8292966930600838\n"
     ]
    },
    {
     "name": "stderr",
     "output_type": "stream",
     "text": [
      "100%|██████████| 535/535 [09:03<00:00,  1.02s/it]\n",
      "100%|██████████| 135/135 [00:30<00:00,  4.45it/s]\n",
      "  0%|          | 0/535 [00:00<?, ?it/s]"
     ]
    },
    {
     "name": "stdout",
     "output_type": "stream",
     "text": [
      "Accuracy at epoch 13 is: 0.8267349790405216\n"
     ]
    },
    {
     "name": "stderr",
     "output_type": "stream",
     "text": [
      "100%|██████████| 535/535 [08:50<00:00,  1.01it/s]\n",
      "100%|██████████| 135/135 [00:30<00:00,  4.39it/s]\n",
      "  0%|          | 0/535 [00:00<?, ?it/s]"
     ]
    },
    {
     "name": "stdout",
     "output_type": "stream",
     "text": [
      "Accuracy at epoch 14 is: 0.8248719142990218\n"
     ]
    },
    {
     "name": "stderr",
     "output_type": "stream",
     "text": [
      "100%|██████████| 535/535 [09:01<00:00,  1.01s/it]\n",
      "100%|██████████| 135/135 [00:30<00:00,  4.48it/s]\n",
      "  0%|          | 0/535 [00:00<?, ?it/s]"
     ]
    },
    {
     "name": "stdout",
     "output_type": "stream",
     "text": [
      "Accuracy at epoch 15 is: 0.8341872380065207\n"
     ]
    },
    {
     "name": "stderr",
     "output_type": "stream",
     "text": [
      "100%|██████████| 535/535 [09:01<00:00,  1.01s/it]\n",
      "100%|██████████| 135/135 [00:30<00:00,  4.43it/s]\n",
      "  0%|          | 0/535 [00:00<?, ?it/s]"
     ]
    },
    {
     "name": "stdout",
     "output_type": "stream",
     "text": [
      "Accuracy at epoch 16 is: 0.8306939916162087\n"
     ]
    },
    {
     "name": "stderr",
     "output_type": "stream",
     "text": [
      "100%|██████████| 535/535 [09:03<00:00,  1.02s/it]\n",
      "100%|██████████| 135/135 [00:30<00:00,  4.41it/s]\n",
      "  0%|          | 0/535 [00:00<?, ?it/s]"
     ]
    },
    {
     "name": "stdout",
     "output_type": "stream",
     "text": [
      "Accuracy at epoch 17 is: 0.8376804843968327\n"
     ]
    },
    {
     "name": "stderr",
     "output_type": "stream",
     "text": [
      "100%|██████████| 535/535 [09:10<00:00,  1.03s/it]\n",
      "100%|██████████| 135/135 [00:30<00:00,  4.46it/s]\n",
      "  0%|          | 0/535 [00:00<?, ?it/s]"
     ]
    },
    {
     "name": "stdout",
     "output_type": "stream",
     "text": [
      "Accuracy at epoch 18 is: 0.8337214718211458\n"
     ]
    },
    {
     "name": "stderr",
     "output_type": "stream",
     "text": [
      "100%|██████████| 535/535 [08:59<00:00,  1.01s/it]\n",
      "100%|██████████| 135/135 [00:30<00:00,  4.50it/s]\n",
      "  0%|          | 0/535 [00:00<?, ?it/s]"
     ]
    },
    {
     "name": "stdout",
     "output_type": "stream",
     "text": [
      "Accuracy at epoch 19 is: 0.8290638099673964\n"
     ]
    },
    {
     "name": "stderr",
     "output_type": "stream",
     "text": [
      "100%|██████████| 535/535 [08:59<00:00,  1.01s/it]\n",
      "100%|██████████| 135/135 [00:30<00:00,  4.45it/s]\n",
      "  0%|          | 0/535 [00:00<?, ?it/s]"
     ]
    },
    {
     "name": "stdout",
     "output_type": "stream",
     "text": [
      "Accuracy at epoch 20 is: 0.827433628318584\n"
     ]
    },
    {
     "name": "stderr",
     "output_type": "stream",
     "text": [
      "100%|██████████| 535/535 [08:48<00:00,  1.01it/s]\n",
      "100%|██████████| 135/135 [00:30<00:00,  4.45it/s]\n",
      "  0%|          | 0/535 [00:00<?, ?it/s]"
     ]
    },
    {
     "name": "stdout",
     "output_type": "stream",
     "text": [
      "Accuracy at epoch 21 is: 0.8372147182114579\n"
     ]
    },
    {
     "name": "stderr",
     "output_type": "stream",
     "text": [
      "100%|██████████| 535/535 [08:55<00:00,  1.00s/it]\n",
      "100%|██████████| 135/135 [00:30<00:00,  4.40it/s]\n",
      "  0%|          | 0/535 [00:00<?, ?it/s]"
     ]
    },
    {
     "name": "stdout",
     "output_type": "stream",
     "text": [
      "Accuracy at epoch 22 is: 0.8402421984163949\n"
     ]
    },
    {
     "name": "stderr",
     "output_type": "stream",
     "text": [
      "100%|██████████| 535/535 [09:05<00:00,  1.02s/it]\n",
      "100%|██████████| 135/135 [00:30<00:00,  4.36it/s]\n",
      "  0%|          | 0/535 [00:00<?, ?it/s]"
     ]
    },
    {
     "name": "stdout",
     "output_type": "stream",
     "text": [
      "Accuracy at epoch 23 is: 0.8430367955286446\n"
     ]
    },
    {
     "name": "stderr",
     "output_type": "stream",
     "text": [
      "100%|██████████| 535/535 [08:53<00:00,  1.00it/s]\n",
      "100%|██████████| 135/135 [00:30<00:00,  4.45it/s]\n",
      "  0%|          | 0/535 [00:00<?, ?it/s]"
     ]
    },
    {
     "name": "stdout",
     "output_type": "stream",
     "text": [
      "Accuracy at epoch 24 is: 0.8395435491383325\n"
     ]
    },
    {
     "name": "stderr",
     "output_type": "stream",
     "text": [
      "100%|██████████| 535/535 [09:06<00:00,  1.02s/it]\n",
      "100%|██████████| 135/135 [00:30<00:00,  4.41it/s]\n",
      "  0%|          | 0/535 [00:00<?, ?it/s]"
     ]
    },
    {
     "name": "stdout",
     "output_type": "stream",
     "text": [
      "Accuracy at epoch 25 is: 0.8425710293432697\n"
     ]
    },
    {
     "name": "stderr",
     "output_type": "stream",
     "text": [
      "100%|██████████| 535/535 [08:49<00:00,  1.01it/s]\n",
      "100%|██████████| 135/135 [00:30<00:00,  4.47it/s]\n",
      "  0%|          | 0/535 [00:00<?, ?it/s]"
     ]
    },
    {
     "name": "stdout",
     "output_type": "stream",
     "text": [
      "Accuracy at epoch 26 is: 0.8379133674895203\n"
     ]
    },
    {
     "name": "stderr",
     "output_type": "stream",
     "text": [
      "100%|██████████| 535/535 [08:55<00:00,  1.00s/it]\n",
      "100%|██████████| 135/135 [00:30<00:00,  4.40it/s]\n",
      "  0%|          | 0/535 [00:00<?, ?it/s]"
     ]
    },
    {
     "name": "stdout",
     "output_type": "stream",
     "text": [
      "Accuracy at epoch 27 is: 0.8367489520260829\n"
     ]
    },
    {
     "name": "stderr",
     "output_type": "stream",
     "text": [
      "100%|██████████| 535/535 [08:57<00:00,  1.00s/it]\n",
      "100%|██████████| 135/135 [00:30<00:00,  4.45it/s]\n",
      "  0%|          | 0/535 [00:00<?, ?it/s]"
     ]
    },
    {
     "name": "stdout",
     "output_type": "stream",
     "text": [
      "Accuracy at epoch 28 is: 0.8362831858407079\n"
     ]
    },
    {
     "name": "stderr",
     "output_type": "stream",
     "text": [
      "100%|██████████| 535/535 [09:03<00:00,  1.02s/it]\n",
      "100%|██████████| 135/135 [00:30<00:00,  4.44it/s]\n",
      "  0%|          | 0/535 [00:00<?, ?it/s]"
     ]
    },
    {
     "name": "stdout",
     "output_type": "stream",
     "text": [
      "Accuracy at epoch 29 is: 0.8383791336748952\n"
     ]
    },
    {
     "name": "stderr",
     "output_type": "stream",
     "text": [
      "100%|██████████| 535/535 [08:58<00:00,  1.01s/it]\n",
      "100%|██████████| 135/135 [00:30<00:00,  4.43it/s]\n",
      "  0%|          | 0/535 [00:00<?, ?it/s]"
     ]
    },
    {
     "name": "stdout",
     "output_type": "stream",
     "text": [
      "Accuracy at epoch 30 is: 0.8386120167675827\n"
     ]
    },
    {
     "name": "stderr",
     "output_type": "stream",
     "text": [
      "100%|██████████| 535/535 [08:53<00:00,  1.00it/s]\n",
      "100%|██████████| 135/135 [00:30<00:00,  4.48it/s]\n",
      "  0%|          | 0/535 [00:00<?, ?it/s]"
     ]
    },
    {
     "name": "stdout",
     "output_type": "stream",
     "text": [
      "Accuracy at epoch 31 is: 0.8404750815090825\n"
     ]
    },
    {
     "name": "stderr",
     "output_type": "stream",
     "text": [
      "100%|██████████| 535/535 [08:49<00:00,  1.01it/s]\n",
      "100%|██████████| 135/135 [00:30<00:00,  4.45it/s]\n",
      "  0%|          | 0/535 [00:00<?, ?it/s]"
     ]
    },
    {
     "name": "stdout",
     "output_type": "stream",
     "text": [
      "Accuracy at epoch 32 is: 0.8374476013041453\n"
     ]
    },
    {
     "name": "stderr",
     "output_type": "stream",
     "text": [
      "100%|██████████| 535/535 [08:57<00:00,  1.00s/it]\n",
      "100%|██████████| 135/135 [00:30<00:00,  4.48it/s]\n",
      "  0%|          | 0/535 [00:00<?, ?it/s]"
     ]
    },
    {
     "name": "stdout",
     "output_type": "stream",
     "text": [
      "Accuracy at epoch 33 is: 0.8393106660456451\n"
     ]
    },
    {
     "name": "stderr",
     "output_type": "stream",
     "text": [
      "100%|██████████| 535/535 [08:52<00:00,  1.01it/s]\n",
      "100%|██████████| 135/135 [00:30<00:00,  4.46it/s]\n",
      "  0%|          | 0/535 [00:00<?, ?it/s]"
     ]
    },
    {
     "name": "stdout",
     "output_type": "stream",
     "text": [
      "Accuracy at epoch 34 is: 0.8411737307871449\n"
     ]
    },
    {
     "name": "stderr",
     "output_type": "stream",
     "text": [
      "100%|██████████| 535/535 [08:56<00:00,  1.00s/it]\n",
      "100%|██████████| 135/135 [00:30<00:00,  4.47it/s]\n",
      "  0%|          | 0/535 [00:00<?, ?it/s]"
     ]
    },
    {
     "name": "stdout",
     "output_type": "stream",
     "text": [
      "Accuracy at epoch 35 is: 0.8390777829529577\n"
     ]
    },
    {
     "name": "stderr",
     "output_type": "stream",
     "text": [
      "100%|██████████| 535/535 [09:01<00:00,  1.01s/it]\n",
      "100%|██████████| 135/135 [00:30<00:00,  4.38it/s]\n",
      "  0%|          | 0/535 [00:00<?, ?it/s]"
     ]
    },
    {
     "name": "stdout",
     "output_type": "stream",
     "text": [
      "Accuracy at epoch 36 is: 0.8388448998602701\n"
     ]
    },
    {
     "name": "stderr",
     "output_type": "stream",
     "text": [
      "100%|██████████| 535/535 [08:56<00:00,  1.00s/it]\n",
      "100%|██████████| 135/135 [00:30<00:00,  4.44it/s]\n",
      "  0%|          | 0/535 [00:00<?, ?it/s]"
     ]
    },
    {
     "name": "stdout",
     "output_type": "stream",
     "text": [
      "Accuracy at epoch 37 is: 0.8388448998602701\n"
     ]
    },
    {
     "name": "stderr",
     "output_type": "stream",
     "text": [
      "100%|██████████| 535/535 [08:57<00:00,  1.01s/it]\n",
      "100%|██████████| 135/135 [00:30<00:00,  4.45it/s]\n",
      "  0%|          | 0/535 [00:00<?, ?it/s]"
     ]
    },
    {
     "name": "stdout",
     "output_type": "stream",
     "text": [
      "Accuracy at epoch 38 is: 0.8367489520260829\n"
     ]
    },
    {
     "name": "stderr",
     "output_type": "stream",
     "text": [
      "100%|██████████| 535/535 [09:01<00:00,  1.01s/it]\n",
      "100%|██████████| 135/135 [00:30<00:00,  4.45it/s]\n",
      "  0%|          | 0/535 [00:00<?, ?it/s]"
     ]
    },
    {
     "name": "stdout",
     "output_type": "stream",
     "text": [
      "Accuracy at epoch 39 is: 0.8409408476944574\n"
     ]
    },
    {
     "name": "stderr",
     "output_type": "stream",
     "text": [
      "100%|██████████| 535/535 [09:00<00:00,  1.01s/it]\n",
      "100%|██████████| 135/135 [00:31<00:00,  4.35it/s]\n",
      "  0%|          | 0/535 [00:00<?, ?it/s]"
     ]
    },
    {
     "name": "stdout",
     "output_type": "stream",
     "text": [
      "Accuracy at epoch 40 is: 0.8379133674895203\n"
     ]
    },
    {
     "name": "stderr",
     "output_type": "stream",
     "text": [
      "100%|██████████| 535/535 [09:08<00:00,  1.02s/it]\n",
      "100%|██████████| 135/135 [00:31<00:00,  4.30it/s]\n",
      "  0%|          | 0/535 [00:00<?, ?it/s]"
     ]
    },
    {
     "name": "stdout",
     "output_type": "stream",
     "text": [
      "Accuracy at epoch 41 is: 0.832324173265021\n"
     ]
    },
    {
     "name": "stderr",
     "output_type": "stream",
     "text": [
      "100%|██████████| 535/535 [09:02<00:00,  1.01s/it]\n",
      "100%|██████████| 135/135 [00:30<00:00,  4.45it/s]\n",
      "  0%|          | 0/535 [00:00<?, ?it/s]"
     ]
    },
    {
     "name": "stdout",
     "output_type": "stream",
     "text": [
      "Accuracy at epoch 42 is: 0.8360503027480205\n"
     ]
    },
    {
     "name": "stderr",
     "output_type": "stream",
     "text": [
      "100%|██████████| 535/535 [08:58<00:00,  1.01s/it]\n",
      "100%|██████████| 135/135 [00:30<00:00,  4.43it/s]\n",
      "  0%|          | 0/535 [00:00<?, ?it/s]"
     ]
    },
    {
     "name": "stdout",
     "output_type": "stream",
     "text": [
      "Accuracy at epoch 43 is: 0.8362831858407079\n"
     ]
    },
    {
     "name": "stderr",
     "output_type": "stream",
     "text": [
      "100%|██████████| 535/535 [09:01<00:00,  1.01s/it]\n",
      "100%|██████████| 135/135 [00:30<00:00,  4.45it/s]\n",
      "  0%|          | 0/535 [00:00<?, ?it/s]"
     ]
    },
    {
     "name": "stdout",
     "output_type": "stream",
     "text": [
      "Accuracy at epoch 44 is: 0.8297624592454588\n"
     ]
    },
    {
     "name": "stderr",
     "output_type": "stream",
     "text": [
      "100%|██████████| 535/535 [09:04<00:00,  1.02s/it]\n",
      "100%|██████████| 135/135 [00:30<00:00,  4.42it/s]\n",
      "  0%|          | 0/535 [00:00<?, ?it/s]"
     ]
    },
    {
     "name": "stdout",
     "output_type": "stream",
     "text": [
      "Accuracy at epoch 45 is: 0.8358174196553331\n"
     ]
    },
    {
     "name": "stderr",
     "output_type": "stream",
     "text": [
      "100%|██████████| 535/535 [08:58<00:00,  1.01s/it]\n",
      "100%|██████████| 135/135 [00:30<00:00,  4.42it/s]\n",
      "  0%|          | 0/535 [00:00<?, ?it/s]"
     ]
    },
    {
     "name": "stdout",
     "output_type": "stream",
     "text": [
      "Accuracy at epoch 46 is: 0.8402421984163949\n"
     ]
    },
    {
     "name": "stderr",
     "output_type": "stream",
     "text": [
      "100%|██████████| 535/535 [08:57<00:00,  1.00s/it]\n",
      "100%|██████████| 135/135 [00:30<00:00,  4.44it/s]\n",
      "  0%|          | 0/535 [00:00<?, ?it/s]"
     ]
    },
    {
     "name": "stdout",
     "output_type": "stream",
     "text": [
      "Accuracy at epoch 47 is: 0.8309268747088961\n"
     ]
    },
    {
     "name": "stderr",
     "output_type": "stream",
     "text": [
      "100%|██████████| 535/535 [08:57<00:00,  1.00s/it]\n",
      "100%|██████████| 135/135 [00:30<00:00,  4.44it/s]\n",
      "  0%|          | 0/535 [00:00<?, ?it/s]"
     ]
    },
    {
     "name": "stdout",
     "output_type": "stream",
     "text": [
      "Accuracy at epoch 48 is: 0.8341872380065207\n"
     ]
    },
    {
     "name": "stderr",
     "output_type": "stream",
     "text": [
      "100%|██████████| 535/535 [08:54<00:00,  1.00it/s]\n",
      "100%|██████████| 135/135 [00:30<00:00,  4.42it/s]"
     ]
    },
    {
     "name": "stdout",
     "output_type": "stream",
     "text": [
      "Accuracy at epoch 49 is: 0.8353516534699581\n"
     ]
    },
    {
     "name": "stderr",
     "output_type": "stream",
     "text": [
      "\n"
     ]
    }
   ],
   "source": [
    "train_loss_list = []\n",
    "val_acc_list = []\n",
    "for epoch in range(EPOCH):\n",
    "    train_loss = train_one_epoch(model, train_loader, criterion, optimizer)\n",
    "    val_acc = validate(model, val_loader)\n",
    "    print(\"Accuracy at epoch {} is: {}\".format(epoch, val_acc))\n",
    "    train_loss_list.append(train_loss)\n",
    "    val_acc_list.append(val_acc)"
   ]
  },
  {
   "cell_type": "markdown",
   "id": "curious-hands",
   "metadata": {},
   "source": [
    "# Visualize train loss and val loss"
   ]
  },
  {
   "cell_type": "code",
   "execution_count": 15,
   "id": "copyrighted-crown",
   "metadata": {},
   "outputs": [
    {
     "name": "stdout",
     "output_type": "stream",
     "text": [
      "[0.8694132191555523, 0.5938268972891514, 0.5278292329790436, 0.4910869395342943, 0.4644577529246562, 0.45378980713191436, 0.437624522932222, 0.4200279466877474, 0.4084374508707323, 0.4031372965496277, 0.4034891744222596, 0.3951580969529731, 0.3804121862087294, 0.38130371995339885, 0.37355400655314186, 0.37652187914213286, 0.35736652786765144, 0.3560287195388402, 0.35480107923395166, 0.3501567721923935, 0.3367927601961332, 0.3403036223950787, 0.3250240072677626, 0.32439821659126017, 0.32000958487112946, 0.3157757048434186, 0.318619923836717, 0.3082002485745421, 0.3100166920119914, 0.293340590463899, 0.29711150635625716, 0.29112038457783584, 0.286175102294884, 0.28285730991547353, 0.2785466700653049, 0.2729925114974797, 0.26822056273155126, 0.2697971634775679, 0.2600906587023044, 0.25317008902675636, 0.25223034254022847, 0.24908736381575325, 0.24322366983255495, 0.24192839057715695, 0.23769758069348113, 0.22891482488713533, 0.2220919440735445, 0.22226789871526656, 0.22106617878530627, 0.2170014150928114]\n",
      "[0.7189101071262226, 0.7622263623660922, 0.7824871914299022, 0.7899394503959013, 0.7980903586399627, 0.8004191895668374, 0.8162552398695855, 0.8139264089427107, 0.8157894736842105, 0.8225430833721472, 0.8255705635770842, 0.8255705635770842, 0.8292966930600838, 0.8267349790405216, 0.8248719142990218, 0.8341872380065207, 0.8306939916162087, 0.8376804843968327, 0.8337214718211458, 0.8290638099673964, 0.827433628318584, 0.8372147182114579, 0.8402421984163949, 0.8430367955286446, 0.8395435491383325, 0.8425710293432697, 0.8379133674895203, 0.8367489520260829, 0.8362831858407079, 0.8383791336748952, 0.8386120167675827, 0.8404750815090825, 0.8374476013041453, 0.8393106660456451, 0.8411737307871449, 0.8390777829529577, 0.8388448998602701, 0.8388448998602701, 0.8367489520260829, 0.8409408476944574, 0.8379133674895203, 0.832324173265021, 0.8360503027480205, 0.8362831858407079, 0.8297624592454588, 0.8358174196553331, 0.8402421984163949, 0.8309268747088961, 0.8341872380065207, 0.8353516534699581]\n"
     ]
    },
    {
     "data": {
      "image/png": "[encoded data removed]",
      "text/plain": [
       "<Figure size 432x288 with 1 Axes>"
      ]
     },
     "metadata": {
      "needs_background": "light"
     },
     "output_type": "display_data"
    }
   ],
   "source": [
    "import matplotlib.pyplot as plt\n",
    "%matplotlib inline\n",
    "\n",
    "print(train_loss_list)\n",
    "print(val_acc_list)\n",
    "\n",
    "plt.plot(train_loss_list)\n",
    "plt.plot(val_acc_list)\n",
    "\n",
    "plt.xticks(np.arange(0, EPOCH + 1, 1))\n",
    "plt.yticks(np.arange(0, 100, 0.05))\n",
    "plt.show()"
   ]
  }
 ],
 "metadata": {
  "kernelspec": {
   "display_name": "Python 3",
   "language": "python",
   "name": "python3"
  },
  "language_info": {
   "codemirror_mode": {
    "name": "ipython",
    "version": 3
   },
   "file_extension": ".py",
   "mimetype": "text/x-python",
   "name": "python",
   "nbconvert_exporter": "python",
   "pygments_lexer": "ipython3",
   "version": "3.8.2"
  }
 },
 "nbformat": 4,
 "nbformat_minor": 5
}

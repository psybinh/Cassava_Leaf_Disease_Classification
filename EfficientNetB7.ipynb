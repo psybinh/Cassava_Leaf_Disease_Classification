{
 "cells": [
  {
   "cell_type": "markdown",
   "id": "postal-recycling",
   "metadata": {},
   "source": [
    "# Import"
   ]
  },
  {
   "cell_type": "code",
   "execution_count": 1,
   "id": "romance-belief",
   "metadata": {},
   "outputs": [],
   "source": [
    "import numpy as np\n",
    "import pandas as pd\n",
    "import timm\n",
    "import random\n",
    "import os\n",
    "from PIL import Image\n",
    "import torch\n",
    "\n",
    "from torch.utils.data import Dataset, DataLoader\n",
    "import torchvision.transforms as transforms\n",
    "from torchvision import models\n",
    "import tqdm\n",
    "from torch import nn\n",
    "from torch import optim"
   ]
  },
  {
   "cell_type": "markdown",
   "id": "distant-andrews",
   "metadata": {},
   "source": [
    "# Set seed (Reproduce result)"
   ]
  },
  {
   "cell_type": "code",
   "execution_count": 2,
   "id": "bibliographic-geography",
   "metadata": {},
   "outputs": [],
   "source": [
    "SEED = 123456789\n",
    "\n",
    "random.seed(SEED)\n",
    "np.random.seed(SEED)\n",
    "torch.manual_seed(SEED)\n",
    "torch.cuda.manual_seed(SEED)\n",
    "torch.backends.cudnn.deterministic = True"
   ]
  },
  {
   "cell_type": "markdown",
   "id": "terminal-experience",
   "metadata": {},
   "source": [
    "# Split data"
   ]
  },
  {
   "cell_type": "code",
   "execution_count": 3,
   "id": "normal-haiti",
   "metadata": {},
   "outputs": [],
   "source": [
    "data = pd.read_csv('cassava-leaf-disease-classification/train.csv')\n",
    "choosen_prob = np.random.rand(len(data))\n",
    "train_df = data[choosen_prob >= 0.95]\n",
    "val_df = data[choosen_prob < 0.05]"
   ]
  },
  {
   "cell_type": "code",
   "execution_count": 4,
   "id": "external-float",
   "metadata": {},
   "outputs": [
    {
     "data": {
      "text/plain": [
       "1111"
      ]
     },
     "execution_count": 4,
     "metadata": {},
     "output_type": "execute_result"
    }
   ],
   "source": [
    "len(val_df)"
   ]
  },
  {
   "cell_type": "code",
   "execution_count": 5,
   "id": "sufficient-farming",
   "metadata": {},
   "outputs": [
    {
     "data": {
      "text/plain": [
       "1123"
      ]
     },
     "execution_count": 5,
     "metadata": {},
     "output_type": "execute_result"
    }
   ],
   "source": [
    "len(train_df)"
   ]
  },
  {
   "cell_type": "markdown",
   "id": "swiss-franklin",
   "metadata": {},
   "source": [
    "# Hyper params"
   ]
  },
  {
   "cell_type": "code",
   "execution_count": 6,
   "id": "spatial-agreement",
   "metadata": {},
   "outputs": [],
   "source": [
    "MODEL_NAME = 'tf_efficientnet_b3_ns'\n",
    "IM_SIZE = 300\n",
    "BATCH_SIZE = 20\n",
    "LEARNING_RATE = 1e-3\n",
    "EPOCH = 3\n",
    "NUM_WORKER = 8\n",
    "WEIGHT_DECAY = 1e-4"
   ]
  },
  {
   "cell_type": "markdown",
   "id": "parental-phoenix",
   "metadata": {},
   "source": [
    "# Data augmentation"
   ]
  },
  {
   "cell_type": "code",
   "execution_count": 7,
   "id": "addressed-vegetation",
   "metadata": {},
   "outputs": [],
   "source": [
    "train_transform = transforms.Compose(\n",
    "    [transforms.ToTensor(),\n",
    "     transforms.RandomResizedCrop((IM_SIZE, IM_SIZE)),\n",
    "     transforms.RandomRotation(90),\n",
    "     transforms.RandomHorizontalFlip(p=0.5),\n",
    "     transforms.Normalize((0.485, 0.456, 0.406), (0.229, 0.224, 0.225))])\n",
    "\n",
    "val_transform = transforms.Compose(\n",
    "    [transforms.ToTensor(),\n",
    "     transforms.Resize((IM_SIZE, IM_SIZE)),\n",
    "     transforms.Normalize((0.485, 0.456, 0.406), (0.229, 0.224, 0.225))])"
   ]
  },
  {
   "cell_type": "markdown",
   "id": "convenient-board",
   "metadata": {},
   "source": [
    "# Dataset"
   ]
  },
  {
   "cell_type": "code",
   "execution_count": 8,
   "id": "municipal-start",
   "metadata": {},
   "outputs": [],
   "source": [
    "class CassavaDataset(Dataset):\n",
    "    def __init__(self, image_dir, df, transform=None):\n",
    "        self.image_dir = image_dir\n",
    "        self.df = df.reset_index(drop=True)\n",
    "        self.transform = transform\n",
    "        \n",
    "    def __len__(self):\n",
    "        return len(self.df)\n",
    "    \n",
    "    def __getitem__(self, index):\n",
    "        row = self.df.loc[index]\n",
    "        label = row.label\n",
    "        image_name = row.image_id\n",
    "        \n",
    "        image = Image.open(os.path.join(self.image_dir, image_name))\n",
    "        image = np.array(image)\n",
    "        \n",
    "        if self.transform is not None:\n",
    "            image = self.transform(image)\n",
    "        \n",
    "        return image, label"
   ]
  },
  {
   "cell_type": "code",
   "execution_count": 9,
   "id": "paperback-projector",
   "metadata": {},
   "outputs": [],
   "source": [
    "train_image_dir = 'cassava-leaf-disease-classification/train_images'\n",
    "train_dataset = CassavaDataset(train_image_dir, train_df, transform=train_transform)\n",
    "train_loader = torch.utils.data.DataLoader(train_dataset, \n",
    "                                           batch_size=BATCH_SIZE, \n",
    "                                           shuffle=True, \n",
    "                                           num_workers=NUM_WORKER)\n",
    "\n",
    "val_image_dir = 'cassava-leaf-disease-classification/train_images'\n",
    "val_dataset = CassavaDataset(val_image_dir, val_df, transform=val_transform)\n",
    "val_loader = torch.utils.data.DataLoader(val_dataset, \n",
    "                                           batch_size=BATCH_SIZE, \n",
    "                                           shuffle=False, \n",
    "                                           num_workers=NUM_WORKER)"
   ]
  },
  {
   "cell_type": "markdown",
   "id": "crude-bacteria",
   "metadata": {},
   "source": [
    "# Model"
   ]
  },
  {
   "cell_type": "code",
   "execution_count": 10,
   "id": "earlier-highway",
   "metadata": {},
   "outputs": [],
   "source": [
    "device = torch.device(\"cuda\")\n",
    "model = timm.create_model(MODEL_NAME, pretrained=True, num_classes=14)"
   ]
  },
  {
   "cell_type": "code",
   "execution_count": 11,
   "id": "rocky-burning",
   "metadata": {},
   "outputs": [
    {
     "name": "stdout",
     "output_type": "stream",
     "text": [
      "Convert model to CUDA\n"
     ]
    }
   ],
   "source": [
    "criterion = nn.CrossEntropyLoss()\n",
    "optimizer = optim.SGD(model.parameters(), lr=LEARNING_RATE, momentum=0.9)\n",
    "\n",
    "model.cuda()\n",
    "print('Convert model to CUDA')\n",
    "\n",
    "# for param in model.parameters():\n",
    "#     param.requires_grad = False\n",
    "\n",
    "# model.classifier.train()\n",
    "# model.conv_head.train()\n",
    "# model.bn2.train()"
   ]
  },
  {
   "cell_type": "markdown",
   "id": "perfect-monitoring",
   "metadata": {},
   "source": [
    "# Train and Val"
   ]
  },
  {
   "cell_type": "code",
   "execution_count": 12,
   "id": "dominican-price",
   "metadata": {},
   "outputs": [],
   "source": [
    "import time\n",
    "\n",
    "def train_one_epoch(model, train_loader, criterion, optimizer):\n",
    "    running_loss = 0.0\n",
    "    for i, data in enumerate(tqdm.tqdm(train_loader), 0):\n",
    "        inputs, labels = data\n",
    "        inputs = inputs.cuda()\n",
    "        labels = labels.cuda()\n",
    "        \n",
    "        optimizer.zero_grad()\n",
    "\n",
    "        outputs = model(inputs)\n",
    "        loss = criterion(outputs, labels)\n",
    "        loss.backward()\n",
    "        optimizer.step()\n",
    "\n",
    "        running_loss += loss.item()\n",
    "        \n",
    "    return running_loss\n",
    "\n",
    "def validate(model, val_loader):\n",
    "    correct = 0\n",
    "    total = 0\n",
    "    with torch.no_grad():\n",
    "        for data in tqdm.tqdm(val_loader):\n",
    "            images, labels = data\n",
    "            images = images.cuda()\n",
    "            labels = labels.cuda()\n",
    "        \n",
    "            outputs = model(images)\n",
    "            _, predicted = torch.max(outputs.data, 1)\n",
    "            total += labels.size(0)\n",
    "            correct += (predicted == labels).sum().item()\n",
    "    return correct / total\n",
    "\n",
    "def frezze_top(Model):\n",
    "    pass\n",
    "    "
   ]
  },
  {
   "cell_type": "code",
   "execution_count": 13,
   "id": "checked-guatemala",
   "metadata": {},
   "outputs": [
    {
     "name": "stderr",
     "output_type": "stream",
     "text": [
      "100%|██████████| 57/57 [00:45<00:00,  1.24it/s]\n",
      "100%|██████████| 56/56 [00:12<00:00,  4.56it/s]\n",
      "100%|██████████| 57/57 [00:44<00:00,  1.27it/s]\n",
      "100%|██████████| 56/56 [00:11<00:00,  4.77it/s]\n",
      "100%|██████████| 57/57 [00:44<00:00,  1.28it/s]\n",
      "100%|██████████| 56/56 [00:12<00:00,  4.52it/s]\n"
     ]
    }
   ],
   "source": [
    "train_loss_list = []\n",
    "val_acc_list = []\n",
    "for epoch in range(EPOCH):\n",
    "    train_loss = train_one_epoch(model, train_loader, criterion, optimizer)\n",
    "    val_acc = validate(model, val_loader)\n",
    "    train_loss_list.append(train_loss)\n",
    "    val_acc_list.append(val_acc)"
   ]
  },
  {
   "cell_type": "markdown",
   "id": "bearing-spider",
   "metadata": {},
   "source": [
    "# Visualize train loss and val loss"
   ]
  },
  {
   "cell_type": "code",
   "execution_count": 14,
   "id": "prime-preference",
   "metadata": {},
   "outputs": [
    {
     "ename": "ModuleNotFoundError",
     "evalue": "No module named 'matplotlib'",
     "output_type": "error",
     "traceback": [
      "\u001b[0;31m---------------------------------------------------------------------------\u001b[0m",
      "\u001b[0;31mModuleNotFoundError\u001b[0m                       Traceback (most recent call last)",
      "\u001b[0;32m<ipython-input-14-6050079cda65>\u001b[0m in \u001b[0;36m<module>\u001b[0;34m\u001b[0m\n\u001b[0;32m----> 1\u001b[0;31m \u001b[0;32mimport\u001b[0m \u001b[0mmatplotlib\u001b[0m\u001b[0;34m.\u001b[0m\u001b[0mpyplot\u001b[0m \u001b[0;32mas\u001b[0m \u001b[0mplt\u001b[0m\u001b[0;34m\u001b[0m\u001b[0;34m\u001b[0m\u001b[0m\n\u001b[0m\u001b[1;32m      2\u001b[0m \u001b[0mget_ipython\u001b[0m\u001b[0;34m(\u001b[0m\u001b[0;34m)\u001b[0m\u001b[0;34m.\u001b[0m\u001b[0mrun_line_magic\u001b[0m\u001b[0;34m(\u001b[0m\u001b[0;34m'matplotlib'\u001b[0m\u001b[0;34m,\u001b[0m \u001b[0;34m'inline'\u001b[0m\u001b[0;34m)\u001b[0m\u001b[0;34m\u001b[0m\u001b[0;34m\u001b[0m\u001b[0m\n\u001b[1;32m      3\u001b[0m \u001b[0;34m\u001b[0m\u001b[0m\n",
      "\u001b[0;31mModuleNotFoundError\u001b[0m: No module named 'matplotlib'"
     ]
    }
   ],
   "source": [
    "import matplotlib.pyplot as plt\n",
    "%matplotlib inline\n",
    "\n"
   ]
  }
 ],
 "metadata": {
  "kernelspec": {
   "display_name": "Python 3",
   "language": "python",
   "name": "python3"
  },
  "language_info": {
   "codemirror_mode": {
    "name": "ipython",
    "version": 3
   },
   "file_extension": ".py",
   "mimetype": "text/x-python",
   "name": "python",
   "nbconvert_exporter": "python",
   "pygments_lexer": "ipython3",
   "version": "3.8.2"
  }
 },
 "nbformat": 4,
 "nbformat_minor": 5
}
